{
 "cells": [
  {
   "cell_type": "code",
   "execution_count": 6,
   "metadata": {},
   "outputs": [
    {
     "name": "stdout",
     "output_type": "stream",
     "text": [
      "Datatypen til file er\n"
     ]
    },
    {
     "data": {
      "text/plain": [
       "_io.TextIOWrapper"
      ]
     },
     "execution_count": 6,
     "metadata": {},
     "output_type": "execute_result"
    }
   ],
   "source": [
    "import csv\n",
    "# Dokumentasjon: https://docs.python.org/3/library/csv.html\n",
    "\n",
    "\n",
    "file = open(\"lonn.csv\", newline='', encoding=\"ISO-8859-1\")\n",
    "\n",
    "print(\"Datatypen til file er\")\n",
    "type(file)"
   ]
  },
  {
   "cell_type": "code",
   "execution_count": 7,
   "metadata": {},
   "outputs": [
    {
     "name": "stdout",
     "output_type": "stream",
     "text": [
      "[['statistikkvariabel\\t\"statistikkmål\"\\t\"arbeidstid\"\\t\"kjønn\"\\t\"næring (SN2007)\"\\t\"2016\"\\t\"2017\"\\t\"2018\"\\t\"2019\"\\t\"2020\"\\t\"2021\"\\t\"2022\"'], ['Månedslønn (kr)\\t\"Gjennomsnitt\"\\t\"I alt\"\\t\"Menn\"\\t\"00-99 Alle næringer\"\\t46460\\t47390\\t48720\\t50450\\t51630\\t53710\\t56250'], ['Månedslønn (kr)\\t\"Gjennomsnitt\"\\t\"I alt\"\\t\"Kvinner\"\\t\"00-99 Alle næringer\"\\t40160\\t41270\\t42620\\t44280\\t45190\\t47190\\t49280'], ['Månedslønn (kr)\\t\"Median\"\\t\"I alt\"\\t\"Menn\"\\t\"00-99 Alle næringer\"\\t41000\\t41880\\t42940\\t44550\\t45580\\t47290\\t49370'], ['Månedslønn (kr)\\t\"Median\"\\t\"I alt\"\\t\"Kvinner\"\\t\"00-99 Alle næringer\"\\t38080\\t39140\\t40270\\t42000\\t42710\\t44500\\t46170'], ['Månedslønn (kr)\\t\"Nedre kvartil\"\\t\"I alt\"\\t\"Menn\"\\t\"00-99 Alle næringer\"\\t33310\\t34080\\t34960\\t36050\\t37100\\t38430\\t40100'], ['Månedslønn (kr)\\t\"Nedre kvartil\"\\t\"I alt\"\\t\"Kvinner\"\\t\"00-99 Alle næringer\"\\t32060\\t32710\\t33620\\t34880\\t35720\\t36860\\t38310'], ['Månedslønn (kr)\\t\"Øvre kvartil\"\\t\"I alt\"\\t\"Menn\"\\t\"00-99 Alle næringer\"\\t52700\\t53930\\t55320\\t57560\\t58920\\t61000\\t64030'], ['Månedslønn (kr)\\t\"Øvre kvartil\"\\t\"I alt\"\\t\"Kvinner\"\\t\"00-99 Alle næringer\"\\t45000\\t46440\\t47920\\t49840\\t50570\\t53040\\t55110'], ['Månedslønn (kr)\\t\"Antall arbeidsforhold med lønn\"\\t\"I alt\"\\t\"Menn\"\\t\"00-99 Alle næringer\"\\t1389388\\t1420167\\t1460492\\t1485814\\t1455595\\t1517764\\t1564427'], ['Månedslønn (kr)\\t\"Antall arbeidsforhold med lønn\"\\t\"I alt\"\\t\"Kvinner\"\\t\"00-99 Alle næringer\"\\t1315910\\t1336428\\t1356819\\t1373220\\t1353232\\t1420409\\t1449584'], ['Månedslønn (kr)\\t\"Antall heltidsekvivalenter\"\\t\"I alt\"\\t\"Menn\"\\t\"00-99 Alle næringer\"\\t1188133\\t1217364\\t1249854\\t1272461\\t1240822\\t1283042\\t1317088'], ['Månedslønn (kr)\\t\"Antall heltidsekvivalenter\"\\t\"I alt\"\\t\"Kvinner\"\\t\"00-99 Alle næringer\"\\t962409\\t981246\\t997612\\t1013492\\t1001883\\t1037172\\t1056424'], ['Avtalt månedslønn (kr)\\t\"Gjennomsnitt\"\\t\"I alt\"\\t\"Menn\"\\t\"00-99 Alle næringer\"\\t43680\\t44640\\t45810\\t47430\\t48570\\t50300\\t52520'], ['Avtalt månedslønn (kr)\\t\"Gjennomsnitt\"\\t\"I alt\"\\t\"Kvinner\"\\t\"00-99 Alle næringer\"\\t38610\\t39680\\t40940\\t42490\\t43330\\t45180\\t47080'], ['Avtalt månedslønn (kr)\\t\"Median\"\\t\"I alt\"\\t\"Menn\"\\t\"00-99 Alle næringer\"\\t39000\\t39930\\t40640\\t42080\\t43300\\t44830\\t46730'], ['Avtalt månedslønn (kr)\\t\"Median\"\\t\"I alt\"\\t\"Kvinner\"\\t\"00-99 Alle næringer\"\\t36320\\t37350\\t38410\\t40000\\t40980\\t42620\\t44490'], ['Avtalt månedslønn (kr)\\t\"Nedre kvartil\"\\t\"I alt\"\\t\"Menn\"\\t\"00-99 Alle næringer\"\\t32080\\t32600\\t33470\\t34640\\t35700\\t36760\\t38440'], ['Avtalt månedslønn (kr)\\t\"Nedre kvartil\"\\t\"I alt\"\\t\"Kvinner\"\\t\"00-99 Alle næringer\"\\t31140\\t31830\\t32820\\t33760\\t34340\\t35290\\t36700'], ['Avtalt månedslønn (kr)\\t\"Øvre kvartil\"\\t\"I alt\"\\t\"Menn\"\\t\"00-99 Alle næringer\"\\t50000\\t50990\\t52540\\t54610\\t55860\\t58140\\t60380'], ['Avtalt månedslønn (kr)\\t\"Øvre kvartil\"\\t\"I alt\"\\t\"Kvinner\"\\t\"00-99 Alle næringer\"\\t43520\\t44910\\t46250\\t48030\\t48880\\t51220\\t53130'], ['Avtalt månedslønn (kr)\\t\"Antall arbeidsforhold med lønn\"\\t\"I alt\"\\t\"Menn\"\\t\"00-99 Alle næringer\"\\t1389388\\t1420167\\t1460492\\t1485814\\t1455595\\t1517764\\t1564427'], ['Avtalt månedslønn (kr)\\t\"Antall arbeidsforhold med lønn\"\\t\"I alt\"\\t\"Kvinner\"\\t\"00-99 Alle næringer\"\\t1315910\\t1336428\\t1356819\\t1373220\\t1353232\\t1420409\\t1449584'], ['Avtalt månedslønn (kr)\\t\"Antall heltidsekvivalenter\"\\t\"I alt\"\\t\"Menn\"\\t\"00-99 Alle næringer\"\\t1188133\\t1217364\\t1249854\\t1272461\\t1240822\\t1283042\\t1317088'], ['Avtalt månedslønn (kr)\\t\"Antall heltidsekvivalenter\"\\t\"I alt\"\\t\"Kvinner\"\\t\"00-99 Alle næringer\"\\t962409\\t981246\\t997612\\t1013492\\t1001883\\t1037172\\t1056424'], ['Alder (år)\\t\"Gjennomsnitt\"\\t\"I alt\"\\t\"Menn\"\\t\"00-99 Alle næringer\"\\t42.0\\t42.0\\t42.0\\t42.1\\t42.3\\t42.3\\t42.3'], ['Alder (år)\\t\"Gjennomsnitt\"\\t\"I alt\"\\t\"Kvinner\"\\t\"00-99 Alle næringer\"\\t42.1\\t42.1\\t42.1\\t42.2\\t42.3\\t42.2\\t42.2'], ['Alder (år)\\t\"Median\"\\t\"I alt\"\\t\"Menn\"\\t\"00-99 Alle næringer\"\\t42.0\\t42.0\\t42.0\\t42.0\\t42.0\\t42.0\\t42.0'], ['Alder (år)\\t\"Median\"\\t\"I alt\"\\t\"Kvinner\"\\t\"00-99 Alle næringer\"\\t42.0\\t42.0\\t42.0\\t42.0\\t42.0\\t42.0\\t42.0'], ['Alder (år)\\t\"Nedre kvartil\"\\t\"I alt\"\\t\"Menn\"\\t\"00-99 Alle næringer\"\\t32.0\\t31.0\\t31.0\\t31.0\\t32.0\\t32.0\\t32.0'], ['Alder (år)\\t\"Nedre kvartil\"\\t\"I alt\"\\t\"Kvinner\"\\t\"00-99 Alle næringer\"\\t32.0\\t32.0\\t32.0\\t32.0\\t32.0\\t32.0\\t32.0'], ['Alder (år)\\t\"Øvre kvartil\"\\t\"I alt\"\\t\"Menn\"\\t\"00-99 Alle næringer\"\\t52.0\\t52.0\\t52.0\\t52.0\\t53.0\\t53.0\\t53.0'], ['Alder (år)\\t\"Øvre kvartil\"\\t\"I alt\"\\t\"Kvinner\"\\t\"00-99 Alle næringer\"\\t52.0\\t52.0\\t52.0\\t52.0\\t52.0\\t52.0\\t53.0'], ['Alder (år)\\t\"Antall arbeidsforhold med lønn\"\\t\"I alt\"\\t\"Menn\"\\t\"00-99 Alle næringer\"\\t1389388.0\\t1420167.0\\t1460492.0\\t1485814.0\\t1455595.0\\t1517764.0\\t1564427.0'], ['Alder (år)\\t\"Antall arbeidsforhold med lønn\"\\t\"I alt\"\\t\"Kvinner\"\\t\"00-99 Alle næringer\"\\t1315910.0\\t1336428.0\\t1356819.0\\t1373220.0\\t1353232.0\\t1420409.0\\t1449584.0'], ['Alder (år)\\t\"Antall heltidsekvivalenter\"\\t\"I alt\"\\t\"Menn\"\\t\"00-99 Alle næringer\"\\t1188133.0\\t1217364.0\\t1249854.0\\t1272461.0\\t1240822.0\\t1283042.0\\t1317088.0'], ['Alder (år)\\t\"Antall heltidsekvivalenter\"\\t\"I alt\"\\t\"Kvinner\"\\t\"00-99 Alle næringer\"\\t962409.0\\t981246.0\\t997612.0\\t1013492.0\\t1001883.0\\t1037172.0\\t1056424.0']]\n"
     ]
    }
   ],
   "source": [
    "# Ønsker å lese hver rad, lager en tom liste for radene\n",
    "rows = []\n",
    "\n",
    "file_csvreader = csv.reader(file)\n",
    "\n",
    "for row in file_csvreader:\n",
    "    rows.append(row)\n",
    "\n",
    "print(rows)\n",
    "\n",
    "# Når vi er ferdig med filen vår\n",
    "file.close()\n",
    "\n",
    "# Da \"slippes filen fri\" - den blir lagt vekk fra minnet"
   ]
  },
  {
   "cell_type": "code",
   "execution_count": 8,
   "metadata": {},
   "outputs": [
    {
     "name": "stdout",
     "output_type": "stream",
     "text": [
      "['Månedslønn (kr)\\t\"Gjennomsnitt\"\\t\"I alt\"\\t\"Menn\"\\t\"00-99 Alle næringer\"\\t46460\\t47390\\t48720\\t50450\\t51630\\t53710\\t56250']\n",
      "['Månedslønn (kr)\\t\"Gjennomsnitt\"\\t\"I alt\"\\t\"Kvinner\"\\t\"00-99 Alle næringer\"\\t40160\\t41270\\t42620\\t44280\\t45190\\t47190\\t49280']\n",
      "['Månedslønn (kr)\\t\"Median\"\\t\"I alt\"\\t\"Menn\"\\t\"00-99 Alle næringer\"\\t41000\\t41880\\t42940\\t44550\\t45580\\t47290\\t49370']\n",
      "['Månedslønn (kr)\\t\"Median\"\\t\"I alt\"\\t\"Kvinner\"\\t\"00-99 Alle næringer\"\\t38080\\t39140\\t40270\\t42000\\t42710\\t44500\\t46170']\n",
      "['Månedslønn (kr)\\t\"Nedre kvartil\"\\t\"I alt\"\\t\"Menn\"\\t\"00-99 Alle næringer\"\\t33310\\t34080\\t34960\\t36050\\t37100\\t38430\\t40100']\n",
      "['Månedslønn (kr)\\t\"Nedre kvartil\"\\t\"I alt\"\\t\"Kvinner\"\\t\"00-99 Alle næringer\"\\t32060\\t32710\\t33620\\t34880\\t35720\\t36860\\t38310']\n",
      "['Månedslønn (kr)\\t\"Øvre kvartil\"\\t\"I alt\"\\t\"Menn\"\\t\"00-99 Alle næringer\"\\t52700\\t53930\\t55320\\t57560\\t58920\\t61000\\t64030']\n",
      "['Månedslønn (kr)\\t\"Øvre kvartil\"\\t\"I alt\"\\t\"Kvinner\"\\t\"00-99 Alle næringer\"\\t45000\\t46440\\t47920\\t49840\\t50570\\t53040\\t55110']\n",
      "['Månedslønn (kr)\\t\"Antall arbeidsforhold med lønn\"\\t\"I alt\"\\t\"Menn\"\\t\"00-99 Alle næringer\"\\t1389388\\t1420167\\t1460492\\t1485814\\t1455595\\t1517764\\t1564427']\n",
      "['Månedslønn (kr)\\t\"Antall arbeidsforhold med lønn\"\\t\"I alt\"\\t\"Kvinner\"\\t\"00-99 Alle næringer\"\\t1315910\\t1336428\\t1356819\\t1373220\\t1353232\\t1420409\\t1449584']\n",
      "['Månedslønn (kr)\\t\"Antall heltidsekvivalenter\"\\t\"I alt\"\\t\"Menn\"\\t\"00-99 Alle næringer\"\\t1188133\\t1217364\\t1249854\\t1272461\\t1240822\\t1283042\\t1317088']\n",
      "['Månedslønn (kr)\\t\"Antall heltidsekvivalenter\"\\t\"I alt\"\\t\"Kvinner\"\\t\"00-99 Alle næringer\"\\t962409\\t981246\\t997612\\t1013492\\t1001883\\t1037172\\t1056424']\n",
      "['Avtalt månedslønn (kr)\\t\"Gjennomsnitt\"\\t\"I alt\"\\t\"Menn\"\\t\"00-99 Alle næringer\"\\t43680\\t44640\\t45810\\t47430\\t48570\\t50300\\t52520']\n",
      "['Avtalt månedslønn (kr)\\t\"Gjennomsnitt\"\\t\"I alt\"\\t\"Kvinner\"\\t\"00-99 Alle næringer\"\\t38610\\t39680\\t40940\\t42490\\t43330\\t45180\\t47080']\n",
      "['Avtalt månedslønn (kr)\\t\"Median\"\\t\"I alt\"\\t\"Menn\"\\t\"00-99 Alle næringer\"\\t39000\\t39930\\t40640\\t42080\\t43300\\t44830\\t46730']\n",
      "['Avtalt månedslønn (kr)\\t\"Median\"\\t\"I alt\"\\t\"Kvinner\"\\t\"00-99 Alle næringer\"\\t36320\\t37350\\t38410\\t40000\\t40980\\t42620\\t44490']\n",
      "['Avtalt månedslønn (kr)\\t\"Nedre kvartil\"\\t\"I alt\"\\t\"Menn\"\\t\"00-99 Alle næringer\"\\t32080\\t32600\\t33470\\t34640\\t35700\\t36760\\t38440']\n",
      "['Avtalt månedslønn (kr)\\t\"Nedre kvartil\"\\t\"I alt\"\\t\"Kvinner\"\\t\"00-99 Alle næringer\"\\t31140\\t31830\\t32820\\t33760\\t34340\\t35290\\t36700']\n",
      "['Avtalt månedslønn (kr)\\t\"Øvre kvartil\"\\t\"I alt\"\\t\"Menn\"\\t\"00-99 Alle næringer\"\\t50000\\t50990\\t52540\\t54610\\t55860\\t58140\\t60380']\n",
      "['Avtalt månedslønn (kr)\\t\"Øvre kvartil\"\\t\"I alt\"\\t\"Kvinner\"\\t\"00-99 Alle næringer\"\\t43520\\t44910\\t46250\\t48030\\t48880\\t51220\\t53130']\n",
      "['Avtalt månedslønn (kr)\\t\"Antall arbeidsforhold med lønn\"\\t\"I alt\"\\t\"Menn\"\\t\"00-99 Alle næringer\"\\t1389388\\t1420167\\t1460492\\t1485814\\t1455595\\t1517764\\t1564427']\n",
      "['Avtalt månedslønn (kr)\\t\"Antall arbeidsforhold med lønn\"\\t\"I alt\"\\t\"Kvinner\"\\t\"00-99 Alle næringer\"\\t1315910\\t1336428\\t1356819\\t1373220\\t1353232\\t1420409\\t1449584']\n",
      "['Avtalt månedslønn (kr)\\t\"Antall heltidsekvivalenter\"\\t\"I alt\"\\t\"Menn\"\\t\"00-99 Alle næringer\"\\t1188133\\t1217364\\t1249854\\t1272461\\t1240822\\t1283042\\t1317088']\n",
      "['Avtalt månedslønn (kr)\\t\"Antall heltidsekvivalenter\"\\t\"I alt\"\\t\"Kvinner\"\\t\"00-99 Alle næringer\"\\t962409\\t981246\\t997612\\t1013492\\t1001883\\t1037172\\t1056424']\n",
      "['Alder (år)\\t\"Gjennomsnitt\"\\t\"I alt\"\\t\"Menn\"\\t\"00-99 Alle næringer\"\\t42.0\\t42.0\\t42.0\\t42.1\\t42.3\\t42.3\\t42.3']\n",
      "['Alder (år)\\t\"Gjennomsnitt\"\\t\"I alt\"\\t\"Kvinner\"\\t\"00-99 Alle næringer\"\\t42.1\\t42.1\\t42.1\\t42.2\\t42.3\\t42.2\\t42.2']\n",
      "['Alder (år)\\t\"Median\"\\t\"I alt\"\\t\"Menn\"\\t\"00-99 Alle næringer\"\\t42.0\\t42.0\\t42.0\\t42.0\\t42.0\\t42.0\\t42.0']\n",
      "['Alder (år)\\t\"Median\"\\t\"I alt\"\\t\"Kvinner\"\\t\"00-99 Alle næringer\"\\t42.0\\t42.0\\t42.0\\t42.0\\t42.0\\t42.0\\t42.0']\n",
      "['Alder (år)\\t\"Nedre kvartil\"\\t\"I alt\"\\t\"Menn\"\\t\"00-99 Alle næringer\"\\t32.0\\t31.0\\t31.0\\t31.0\\t32.0\\t32.0\\t32.0']\n",
      "['Alder (år)\\t\"Nedre kvartil\"\\t\"I alt\"\\t\"Kvinner\"\\t\"00-99 Alle næringer\"\\t32.0\\t32.0\\t32.0\\t32.0\\t32.0\\t32.0\\t32.0']\n",
      "['Alder (år)\\t\"Øvre kvartil\"\\t\"I alt\"\\t\"Menn\"\\t\"00-99 Alle næringer\"\\t52.0\\t52.0\\t52.0\\t52.0\\t53.0\\t53.0\\t53.0']\n",
      "['Alder (år)\\t\"Øvre kvartil\"\\t\"I alt\"\\t\"Kvinner\"\\t\"00-99 Alle næringer\"\\t52.0\\t52.0\\t52.0\\t52.0\\t52.0\\t52.0\\t53.0']\n",
      "['Alder (år)\\t\"Antall arbeidsforhold med lønn\"\\t\"I alt\"\\t\"Menn\"\\t\"00-99 Alle næringer\"\\t1389388.0\\t1420167.0\\t1460492.0\\t1485814.0\\t1455595.0\\t1517764.0\\t1564427.0']\n",
      "['Alder (år)\\t\"Antall arbeidsforhold med lønn\"\\t\"I alt\"\\t\"Kvinner\"\\t\"00-99 Alle næringer\"\\t1315910.0\\t1336428.0\\t1356819.0\\t1373220.0\\t1353232.0\\t1420409.0\\t1449584.0']\n",
      "['Alder (år)\\t\"Antall heltidsekvivalenter\"\\t\"I alt\"\\t\"Menn\"\\t\"00-99 Alle næringer\"\\t1188133.0\\t1217364.0\\t1249854.0\\t1272461.0\\t1240822.0\\t1283042.0\\t1317088.0']\n",
      "['Alder (år)\\t\"Antall heltidsekvivalenter\"\\t\"I alt\"\\t\"Kvinner\"\\t\"00-99 Alle næringer\"\\t962409.0\\t981246.0\\t997612.0\\t1013492.0\\t1001883.0\\t1037172.0\\t1056424.0']\n"
     ]
    },
    {
     "data": {
      "text/plain": [
       "['statistikkvariabel\\t\"statistikkmål\"\\t\"arbeidstid\"\\t\"kjønn\"\\t\"næring (SN2007)\"\\t\"2016\"\\t\"2017\"\\t\"2018\"\\t\"2019\"\\t\"2020\"\\t\"2021\"\\t\"2022\"']"
      ]
     },
     "execution_count": 8,
     "metadata": {},
     "output_type": "execute_result"
    }
   ],
   "source": [
    "# Alternativt kan man bruke \"with\"-nøkkelordet for å automatisk lukke filen når man er ferdig\n",
    "# Man kan også si hva man vil gjøre med filen, her bruker jeg 'r' for å vise at jeg bare vil lese filen\n",
    "with open(\"lonn.csv\", 'r', encoding=\"ISO-8859-1\") as file:\n",
    "    file_csvreader = csv.reader(file)\n",
    "    header = []\n",
    "\n",
    "    header = next(file_csvreader)\n",
    "    for row in file_csvreader:\n",
    "        print(row)\n",
    "\n",
    "header"
   ]
  },
  {
   "cell_type": "code",
   "execution_count": 9,
   "metadata": {},
   "outputs": [
    {
     "ename": "AttributeError",
     "evalue": "'list' object has no attribute 'strip'",
     "output_type": "error",
     "traceback": [
      "\u001b[0;31m---------------------------------------------------------------------------\u001b[0m",
      "\u001b[0;31mAttributeError\u001b[0m                            Traceback (most recent call last)",
      "\u001b[1;32m/home/big_joe/elvebakken/python/it2_notebook.ipynb Cell 4\u001b[0m line \u001b[0;36m1\n\u001b[1;32m      <a href='vscode-notebook-cell://ssh-remote%2B127.0.0.1/home/big_joe/elvebakken/python/it2_notebook.ipynb#W4sdnNjb2RlLXJlbW90ZQ%3D%3D?line=7'>8</a>\u001b[0m     header \u001b[39m=\u001b[39m \u001b[39mnext\u001b[39m(file_csvreader)\n\u001b[1;32m      <a href='vscode-notebook-cell://ssh-remote%2B127.0.0.1/home/big_joe/elvebakken/python/it2_notebook.ipynb#W4sdnNjb2RlLXJlbW90ZQ%3D%3D?line=8'>9</a>\u001b[0m     \u001b[39mfor\u001b[39;00m row \u001b[39min\u001b[39;00m file_csvreader:\n\u001b[0;32m---> <a href='vscode-notebook-cell://ssh-remote%2B127.0.0.1/home/big_joe/elvebakken/python/it2_notebook.ipynb#W4sdnNjb2RlLXJlbW90ZQ%3D%3D?line=9'>10</a>\u001b[0m         \u001b[39mprint\u001b[39m(row\u001b[39m.\u001b[39;49mstrip(\u001b[39m\"\u001b[39m\u001b[39m\\t\u001b[39;00m\u001b[39m\"\u001b[39m))\n\u001b[1;32m     <a href='vscode-notebook-cell://ssh-remote%2B127.0.0.1/home/big_joe/elvebakken/python/it2_notebook.ipynb#W4sdnNjb2RlLXJlbW90ZQ%3D%3D?line=11'>12</a>\u001b[0m header\n",
      "\u001b[0;31mAttributeError\u001b[0m: 'list' object has no attribute 'strip'"
     ]
    }
   ],
   "source": [
    "# Vi ser at vi har en tabulator \\t mellom hver kolonne. Vi kan da bruke metoden \n",
    "#   .split(\"str\")\n",
    "\n",
    "with open(\"lonn.csv\", 'r', encoding=\"ISO-8859-1\") as file:\n",
    "    file_csvreader = csv.reader(file)\n",
    "    header = []\n",
    "\n",
    "    header = next(file_csvreader)\n",
    "    for row in file_csvreader:\n",
    "        print(row.strip(\"\\t\"))\n",
    "\n",
    "header"
   ]
  },
  {
   "cell_type": "code",
   "execution_count": null,
   "metadata": {},
   "outputs": [
    {
     "name": "stdout",
     "output_type": "stream",
     "text": [
      "['Månedslønn (kr)', '\"Gjennomsnitt\"', '\"I alt\"', '\"Menn\"', '\"00-99 Alle næringer\"', '46460', '47390', '48720', '50450', '51630', '53710', '56250']\n",
      "['Månedslønn (kr)', '\"Gjennomsnitt\"', '\"I alt\"', '\"Kvinner\"', '\"00-99 Alle næringer\"', '40160', '41270', '42620', '44280', '45190', '47190', '49280']\n",
      "['Månedslønn (kr)', '\"Median\"', '\"I alt\"', '\"Menn\"', '\"00-99 Alle næringer\"', '41000', '41880', '42940', '44550', '45580', '47290', '49370']\n",
      "['Månedslønn (kr)', '\"Median\"', '\"I alt\"', '\"Kvinner\"', '\"00-99 Alle næringer\"', '38080', '39140', '40270', '42000', '42710', '44500', '46170']\n",
      "['Månedslønn (kr)', '\"Nedre kvartil\"', '\"I alt\"', '\"Menn\"', '\"00-99 Alle næringer\"', '33310', '34080', '34960', '36050', '37100', '38430', '40100']\n",
      "['Månedslønn (kr)', '\"Nedre kvartil\"', '\"I alt\"', '\"Kvinner\"', '\"00-99 Alle næringer\"', '32060', '32710', '33620', '34880', '35720', '36860', '38310']\n",
      "['Månedslønn (kr)', '\"Øvre kvartil\"', '\"I alt\"', '\"Menn\"', '\"00-99 Alle næringer\"', '52700', '53930', '55320', '57560', '58920', '61000', '64030']\n",
      "['Månedslønn (kr)', '\"Øvre kvartil\"', '\"I alt\"', '\"Kvinner\"', '\"00-99 Alle næringer\"', '45000', '46440', '47920', '49840', '50570', '53040', '55110']\n",
      "['Månedslønn (kr)', '\"Antall arbeidsforhold med lønn\"', '\"I alt\"', '\"Menn\"', '\"00-99 Alle næringer\"', '1389388', '1420167', '1460492', '1485814', '1455595', '1517764', '1564427']\n",
      "['Månedslønn (kr)', '\"Antall arbeidsforhold med lønn\"', '\"I alt\"', '\"Kvinner\"', '\"00-99 Alle næringer\"', '1315910', '1336428', '1356819', '1373220', '1353232', '1420409', '1449584']\n",
      "['Månedslønn (kr)', '\"Antall heltidsekvivalenter\"', '\"I alt\"', '\"Menn\"', '\"00-99 Alle næringer\"', '1188133', '1217364', '1249854', '1272461', '1240822', '1283042', '1317088']\n",
      "['Månedslønn (kr)', '\"Antall heltidsekvivalenter\"', '\"I alt\"', '\"Kvinner\"', '\"00-99 Alle næringer\"', '962409', '981246', '997612', '1013492', '1001883', '1037172', '1056424']\n",
      "['Avtalt månedslønn (kr)', '\"Gjennomsnitt\"', '\"I alt\"', '\"Menn\"', '\"00-99 Alle næringer\"', '43680', '44640', '45810', '47430', '48570', '50300', '52520']\n",
      "['Avtalt månedslønn (kr)', '\"Gjennomsnitt\"', '\"I alt\"', '\"Kvinner\"', '\"00-99 Alle næringer\"', '38610', '39680', '40940', '42490', '43330', '45180', '47080']\n",
      "['Avtalt månedslønn (kr)', '\"Median\"', '\"I alt\"', '\"Menn\"', '\"00-99 Alle næringer\"', '39000', '39930', '40640', '42080', '43300', '44830', '46730']\n",
      "['Avtalt månedslønn (kr)', '\"Median\"', '\"I alt\"', '\"Kvinner\"', '\"00-99 Alle næringer\"', '36320', '37350', '38410', '40000', '40980', '42620', '44490']\n",
      "['Avtalt månedslønn (kr)', '\"Nedre kvartil\"', '\"I alt\"', '\"Menn\"', '\"00-99 Alle næringer\"', '32080', '32600', '33470', '34640', '35700', '36760', '38440']\n",
      "['Avtalt månedslønn (kr)', '\"Nedre kvartil\"', '\"I alt\"', '\"Kvinner\"', '\"00-99 Alle næringer\"', '31140', '31830', '32820', '33760', '34340', '35290', '36700']\n",
      "['Avtalt månedslønn (kr)', '\"Øvre kvartil\"', '\"I alt\"', '\"Menn\"', '\"00-99 Alle næringer\"', '50000', '50990', '52540', '54610', '55860', '58140', '60380']\n",
      "['Avtalt månedslønn (kr)', '\"Øvre kvartil\"', '\"I alt\"', '\"Kvinner\"', '\"00-99 Alle næringer\"', '43520', '44910', '46250', '48030', '48880', '51220', '53130']\n",
      "['Avtalt månedslønn (kr)', '\"Antall arbeidsforhold med lønn\"', '\"I alt\"', '\"Menn\"', '\"00-99 Alle næringer\"', '1389388', '1420167', '1460492', '1485814', '1455595', '1517764', '1564427']\n",
      "['Avtalt månedslønn (kr)', '\"Antall arbeidsforhold med lønn\"', '\"I alt\"', '\"Kvinner\"', '\"00-99 Alle næringer\"', '1315910', '1336428', '1356819', '1373220', '1353232', '1420409', '1449584']\n",
      "['Avtalt månedslønn (kr)', '\"Antall heltidsekvivalenter\"', '\"I alt\"', '\"Menn\"', '\"00-99 Alle næringer\"', '1188133', '1217364', '1249854', '1272461', '1240822', '1283042', '1317088']\n",
      "['Avtalt månedslønn (kr)', '\"Antall heltidsekvivalenter\"', '\"I alt\"', '\"Kvinner\"', '\"00-99 Alle næringer\"', '962409', '981246', '997612', '1013492', '1001883', '1037172', '1056424']\n",
      "['Alder (år)', '\"Gjennomsnitt\"', '\"I alt\"', '\"Menn\"', '\"00-99 Alle næringer\"', '42.0', '42.0', '42.0', '42.1', '42.3', '42.3', '42.3']\n",
      "['Alder (år)', '\"Gjennomsnitt\"', '\"I alt\"', '\"Kvinner\"', '\"00-99 Alle næringer\"', '42.1', '42.1', '42.1', '42.2', '42.3', '42.2', '42.2']\n",
      "['Alder (år)', '\"Median\"', '\"I alt\"', '\"Menn\"', '\"00-99 Alle næringer\"', '42.0', '42.0', '42.0', '42.0', '42.0', '42.0', '42.0']\n",
      "['Alder (år)', '\"Median\"', '\"I alt\"', '\"Kvinner\"', '\"00-99 Alle næringer\"', '42.0', '42.0', '42.0', '42.0', '42.0', '42.0', '42.0']\n",
      "['Alder (år)', '\"Nedre kvartil\"', '\"I alt\"', '\"Menn\"', '\"00-99 Alle næringer\"', '32.0', '31.0', '31.0', '31.0', '32.0', '32.0', '32.0']\n",
      "['Alder (år)', '\"Nedre kvartil\"', '\"I alt\"', '\"Kvinner\"', '\"00-99 Alle næringer\"', '32.0', '32.0', '32.0', '32.0', '32.0', '32.0', '32.0']\n",
      "['Alder (år)', '\"Øvre kvartil\"', '\"I alt\"', '\"Menn\"', '\"00-99 Alle næringer\"', '52.0', '52.0', '52.0', '52.0', '53.0', '53.0', '53.0']\n",
      "['Alder (år)', '\"Øvre kvartil\"', '\"I alt\"', '\"Kvinner\"', '\"00-99 Alle næringer\"', '52.0', '52.0', '52.0', '52.0', '52.0', '52.0', '53.0']\n",
      "['Alder (år)', '\"Antall arbeidsforhold med lønn\"', '\"I alt\"', '\"Menn\"', '\"00-99 Alle næringer\"', '1389388.0', '1420167.0', '1460492.0', '1485814.0', '1455595.0', '1517764.0', '1564427.0']\n",
      "['Alder (år)', '\"Antall arbeidsforhold med lønn\"', '\"I alt\"', '\"Kvinner\"', '\"00-99 Alle næringer\"', '1315910.0', '1336428.0', '1356819.0', '1373220.0', '1353232.0', '1420409.0', '1449584.0']\n",
      "['Alder (år)', '\"Antall heltidsekvivalenter\"', '\"I alt\"', '\"Menn\"', '\"00-99 Alle næringer\"', '1188133.0', '1217364.0', '1249854.0', '1272461.0', '1240822.0', '1283042.0', '1317088.0']\n",
      "['Alder (år)', '\"Antall heltidsekvivalenter\"', '\"I alt\"', '\"Kvinner\"', '\"00-99 Alle næringer\"', '962409.0', '981246.0', '997612.0', '1013492.0', '1001883.0', '1037172.0', '1056424.0']\n"
     ]
    },
    {
     "data": {
      "text/plain": [
       "['statistikkvariabel\\t\"statistikkmål\"\\t\"arbeidstid\"\\t\"kjønn\"\\t\"næring (SN2007)\"\\t\"2016\"\\t\"2017\"\\t\"2018\"\\t\"2019\"\\t\"2020\"\\t\"2021\"\\t\"2022\"']"
      ]
     },
     "execution_count": 34,
     "metadata": {},
     "output_type": "execute_result"
    }
   ],
   "source": [
    "# Vi må undersøke litt videre. Hva gikk feil her?\n",
    "\n",
    "with open(\"lonn.csv\", 'r', encoding=\"ISO-8859-1\") as file:\n",
    "    file_csvreader = csv.reader(file)\n",
    "    header = []\n",
    "\n",
    "    header = next(file_csvreader)\n",
    "    for row in file_csvreader:\n",
    "        print(row[0].split(\"\\t\"))\n",
    "\n",
    "header"
   ]
  },
  {
   "cell_type": "code",
   "execution_count": null,
   "metadata": {},
   "outputs": [
    {
     "name": "stdout",
     "output_type": "stream",
     "text": [
      "['Månedslønn (kr)', '\"Gjennomsnitt\"', '\"I alt\"', '\"Menn\"', '\"00-99 Alle næringer\"', '46460', '47390', '48720', '50450', '51630', '53710', '56250']\n",
      "['Månedslønn (kr)', '\"Gjennomsnitt\"', '\"I alt\"', '\"Kvinner\"', '\"00-99 Alle næringer\"', '40160', '41270', '42620', '44280', '45190', '47190', '49280']\n",
      "['Månedslønn (kr)', '\"Median\"', '\"I alt\"', '\"Menn\"', '\"00-99 Alle næringer\"', '41000', '41880', '42940', '44550', '45580', '47290', '49370']\n",
      "['Månedslønn (kr)', '\"Median\"', '\"I alt\"', '\"Kvinner\"', '\"00-99 Alle næringer\"', '38080', '39140', '40270', '42000', '42710', '44500', '46170']\n",
      "['Månedslønn (kr)', '\"Nedre kvartil\"', '\"I alt\"', '\"Menn\"', '\"00-99 Alle næringer\"', '33310', '34080', '34960', '36050', '37100', '38430', '40100']\n",
      "['Månedslønn (kr)', '\"Nedre kvartil\"', '\"I alt\"', '\"Kvinner\"', '\"00-99 Alle næringer\"', '32060', '32710', '33620', '34880', '35720', '36860', '38310']\n",
      "['Månedslønn (kr)', '\"Øvre kvartil\"', '\"I alt\"', '\"Menn\"', '\"00-99 Alle næringer\"', '52700', '53930', '55320', '57560', '58920', '61000', '64030']\n",
      "['Månedslønn (kr)', '\"Øvre kvartil\"', '\"I alt\"', '\"Kvinner\"', '\"00-99 Alle næringer\"', '45000', '46440', '47920', '49840', '50570', '53040', '55110']\n",
      "['Månedslønn (kr)', '\"Antall arbeidsforhold med lønn\"', '\"I alt\"', '\"Menn\"', '\"00-99 Alle næringer\"', '1389388', '1420167', '1460492', '1485814', '1455595', '1517764', '1564427']\n",
      "['Månedslønn (kr)', '\"Antall arbeidsforhold med lønn\"', '\"I alt\"', '\"Kvinner\"', '\"00-99 Alle næringer\"', '1315910', '1336428', '1356819', '1373220', '1353232', '1420409', '1449584']\n",
      "['Månedslønn (kr)', '\"Antall heltidsekvivalenter\"', '\"I alt\"', '\"Menn\"', '\"00-99 Alle næringer\"', '1188133', '1217364', '1249854', '1272461', '1240822', '1283042', '1317088']\n",
      "['Månedslønn (kr)', '\"Antall heltidsekvivalenter\"', '\"I alt\"', '\"Kvinner\"', '\"00-99 Alle næringer\"', '962409', '981246', '997612', '1013492', '1001883', '1037172', '1056424']\n",
      "['Avtalt månedslønn (kr)', '\"Gjennomsnitt\"', '\"I alt\"', '\"Menn\"', '\"00-99 Alle næringer\"', '43680', '44640', '45810', '47430', '48570', '50300', '52520']\n",
      "['Avtalt månedslønn (kr)', '\"Gjennomsnitt\"', '\"I alt\"', '\"Kvinner\"', '\"00-99 Alle næringer\"', '38610', '39680', '40940', '42490', '43330', '45180', '47080']\n",
      "['Avtalt månedslønn (kr)', '\"Median\"', '\"I alt\"', '\"Menn\"', '\"00-99 Alle næringer\"', '39000', '39930', '40640', '42080', '43300', '44830', '46730']\n",
      "['Avtalt månedslønn (kr)', '\"Median\"', '\"I alt\"', '\"Kvinner\"', '\"00-99 Alle næringer\"', '36320', '37350', '38410', '40000', '40980', '42620', '44490']\n",
      "['Avtalt månedslønn (kr)', '\"Nedre kvartil\"', '\"I alt\"', '\"Menn\"', '\"00-99 Alle næringer\"', '32080', '32600', '33470', '34640', '35700', '36760', '38440']\n",
      "['Avtalt månedslønn (kr)', '\"Nedre kvartil\"', '\"I alt\"', '\"Kvinner\"', '\"00-99 Alle næringer\"', '31140', '31830', '32820', '33760', '34340', '35290', '36700']\n",
      "['Avtalt månedslønn (kr)', '\"Øvre kvartil\"', '\"I alt\"', '\"Menn\"', '\"00-99 Alle næringer\"', '50000', '50990', '52540', '54610', '55860', '58140', '60380']\n",
      "['Avtalt månedslønn (kr)', '\"Øvre kvartil\"', '\"I alt\"', '\"Kvinner\"', '\"00-99 Alle næringer\"', '43520', '44910', '46250', '48030', '48880', '51220', '53130']\n",
      "['Avtalt månedslønn (kr)', '\"Antall arbeidsforhold med lønn\"', '\"I alt\"', '\"Menn\"', '\"00-99 Alle næringer\"', '1389388', '1420167', '1460492', '1485814', '1455595', '1517764', '1564427']\n",
      "['Avtalt månedslønn (kr)', '\"Antall arbeidsforhold med lønn\"', '\"I alt\"', '\"Kvinner\"', '\"00-99 Alle næringer\"', '1315910', '1336428', '1356819', '1373220', '1353232', '1420409', '1449584']\n",
      "['Avtalt månedslønn (kr)', '\"Antall heltidsekvivalenter\"', '\"I alt\"', '\"Menn\"', '\"00-99 Alle næringer\"', '1188133', '1217364', '1249854', '1272461', '1240822', '1283042', '1317088']\n",
      "['Avtalt månedslønn (kr)', '\"Antall heltidsekvivalenter\"', '\"I alt\"', '\"Kvinner\"', '\"00-99 Alle næringer\"', '962409', '981246', '997612', '1013492', '1001883', '1037172', '1056424']\n",
      "['Alder (år)', '\"Gjennomsnitt\"', '\"I alt\"', '\"Menn\"', '\"00-99 Alle næringer\"', '42.0', '42.0', '42.0', '42.1', '42.3', '42.3', '42.3']\n",
      "['Alder (år)', '\"Gjennomsnitt\"', '\"I alt\"', '\"Kvinner\"', '\"00-99 Alle næringer\"', '42.1', '42.1', '42.1', '42.2', '42.3', '42.2', '42.2']\n",
      "['Alder (år)', '\"Median\"', '\"I alt\"', '\"Menn\"', '\"00-99 Alle næringer\"', '42.0', '42.0', '42.0', '42.0', '42.0', '42.0', '42.0']\n",
      "['Alder (år)', '\"Median\"', '\"I alt\"', '\"Kvinner\"', '\"00-99 Alle næringer\"', '42.0', '42.0', '42.0', '42.0', '42.0', '42.0', '42.0']\n",
      "['Alder (år)', '\"Nedre kvartil\"', '\"I alt\"', '\"Menn\"', '\"00-99 Alle næringer\"', '32.0', '31.0', '31.0', '31.0', '32.0', '32.0', '32.0']\n",
      "['Alder (år)', '\"Nedre kvartil\"', '\"I alt\"', '\"Kvinner\"', '\"00-99 Alle næringer\"', '32.0', '32.0', '32.0', '32.0', '32.0', '32.0', '32.0']\n",
      "['Alder (år)', '\"Øvre kvartil\"', '\"I alt\"', '\"Menn\"', '\"00-99 Alle næringer\"', '52.0', '52.0', '52.0', '52.0', '53.0', '53.0', '53.0']\n",
      "['Alder (år)', '\"Øvre kvartil\"', '\"I alt\"', '\"Kvinner\"', '\"00-99 Alle næringer\"', '52.0', '52.0', '52.0', '52.0', '52.0', '52.0', '53.0']\n",
      "['Alder (år)', '\"Antall arbeidsforhold med lønn\"', '\"I alt\"', '\"Menn\"', '\"00-99 Alle næringer\"', '1389388.0', '1420167.0', '1460492.0', '1485814.0', '1455595.0', '1517764.0', '1564427.0']\n",
      "['Alder (år)', '\"Antall arbeidsforhold med lønn\"', '\"I alt\"', '\"Kvinner\"', '\"00-99 Alle næringer\"', '1315910.0', '1336428.0', '1356819.0', '1373220.0', '1353232.0', '1420409.0', '1449584.0']\n",
      "['Alder (år)', '\"Antall heltidsekvivalenter\"', '\"I alt\"', '\"Menn\"', '\"00-99 Alle næringer\"', '1188133.0', '1217364.0', '1249854.0', '1272461.0', '1240822.0', '1283042.0', '1317088.0']\n",
      "['Alder (år)', '\"Antall heltidsekvivalenter\"', '\"I alt\"', '\"Kvinner\"', '\"00-99 Alle næringer\"', '962409.0', '981246.0', '997612.0', '1013492.0', '1001883.0', '1037172.0', '1056424.0']\n",
      "['statistikkvariabel', '\"statistikkmål\"', '\"arbeidstid\"', '\"kjønn\"', '\"næring (SN2007)\"', '\"2016\"', '\"2017\"', '\"2018\"', '\"2019\"', '\"2020\"', '\"2021\"', '\"2022\"']\n"
     ]
    }
   ],
   "source": [
    "# Vi kan se på gjennomsnittslønn de siste fem årene:\n",
    "\n",
    "with open(\"lonn.csv\", 'r', encoding=\"ISO-8859-1\") as file:\n",
    "    file_csvreader = csv.reader(file)\n",
    "    header = []\n",
    "\n",
    "    header = next(file_csvreader)\n",
    "    header = header[0].split(\"\\t\")\n",
    "    \n",
    "    for row in file_csvreader:\n",
    "        row = row[0].split(\"\\t\")\n",
    "        print(row)\n",
    "\n",
    "print(header)"
   ]
  },
  {
   "cell_type": "code",
   "execution_count": null,
   "metadata": {},
   "outputs": [],
   "source": [
    "# Undersøk hvordan .strip metoden og casting can brukes for å få et nyttigere datasett\n",
    "# Plott for begge kjønn separat over årene"
   ]
  },
  {
   "cell_type": "markdown",
   "metadata": {},
   "source": [
    "# Lese JSON filer"
   ]
  },
  {
   "cell_type": "code",
   "execution_count": null,
   "metadata": {},
   "outputs": [],
   "source": [
    "import json\n",
    "\n",
    "# Open the JSON file for reading\n",
    "with open('data.json', 'r') as json_file:\n",
    "    # Read and process each line of the JSON file\n",
    "    for line in json_file:\n",
    "        # Load each line as a JSON object\n",
    "        data = json.loads(line)\n",
    "        print(data)  # You can process or print the data as needed"
   ]
  },
  {
   "cell_type": "markdown",
   "metadata": {},
   "source": [
    "# Explanation of JSON:\n",
    "\n",
    "JSON står for JavaScript Object Notation. Det er et lettvint dataformat som brukes for å overføre informasjon som gjerne er enkel å lese både for mennesker og datamaskiner. JSON brukes ofte for å lagre strukturert data i teksformat, som gjør det veldig nyttig for config-filer, dataoverføring mellom klient og server, og mere.\n",
    "\n",
    "Dataet i JSON-filer er formattert med \"nøkkel-verdi\" (key-value) par og følger disse enkle reglene:\n",
    "\n",
    "1. Datatyper: JSON støtter et begrenset sett med datatyper:\n",
    "    * Strings: I doble hermetegn, som \"Kåre\".\n",
    "    * Nummber: Både heltall og desimaltall.\n",
    "    * Booleans: true or false\n",
    "    * Objects: Settes i krøllparantes {}, med key-value pairs\n",
    "    * Arrays: Settes i klammer [], med en liste av verdier\n",
    "    * Null: Representeres av null.\n",
    "\n",
    "2. Key-value pairs: JSON data er organisert som nøkkel-verdi-par, hvor nøklene er strings, og verdiene kan være strings, nummer, booleans, objekter, arrays eller null. For eksempel: \n",
    "```json\n",
    "    {\n",
    "        \"name\": \"John\",\n",
    "        \"age\": 30,\n",
    "        \"isStudent\": false,\n",
    "        \"hasGirlfriend\": null\n",
    "    }\n",
    "```\n",
    "\n",
    "3. Nesting: JSON tillater at man lager flerdimensjonale objekter ved hjelp av nesting. Altså, man kan lagre lister med data i lister med data. For eksempel:\n",
    "```json\n",
    "    {\n",
    "        \"person\": {\n",
    "            \"name\": \"Alice\",\n",
    "            \"age\": 25\n",
    "        },\n",
    "        \"hobbies\": [\"Reading\", \"Hiking\"]\n",
    "    }\n",
    "```\n",
    "\n",
    "4. Komma: Komma brukes for å separere mellom elementer/verdier i et objekt eller i en liste.\n",
    "5. Whitespace: JSON er \"whitespace friendly\" kan inneholde mellomrom og linjeskift og er ikke nødvendig for at dataet skal være valid. Alt kan skrives på én linje om man vil.\n",
    "\n",
    "JSON brukes mye i webutvikling, datalagring, og APIer for hvor fleksibelt og simpelt det er. Det er et vanlig format for å veksle data mellom forskjellige systemer og programmeringsspråk."
   ]
  }
 ],
 "metadata": {
  "kernelspec": {
   "display_name": "intro-ai",
   "language": "python",
   "name": "python3"
  },
  "language_info": {
   "codemirror_mode": {
    "name": "ipython",
    "version": 3
   },
   "file_extension": ".py",
   "mimetype": "text/x-python",
   "name": "python",
   "nbconvert_exporter": "python",
   "pygments_lexer": "ipython3",
   "version": "3.8.17"
  }
 },
 "nbformat": 4,
 "nbformat_minor": 2
}
